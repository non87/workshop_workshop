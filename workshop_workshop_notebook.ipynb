{
 "cells": [
  {
   "cell_type": "code",
   "execution_count": 4,
   "id": "mysterious-strain",
   "metadata": {
    "collapsed": true
   },
   "outputs": [
    {
     "ename": "ModuleNotFoundError",
     "evalue": "No module named 'poibin'",
     "output_type": "error",
     "traceback": [
      "\u001b[0;31m---------------------------------------------------------------------------\u001b[0m",
      "\u001b[0;31mModuleNotFoundError\u001b[0m                       Traceback (most recent call last)",
      "\u001b[0;32m<ipython-input-4-8f7a08667260>\u001b[0m in \u001b[0;36m<module>\u001b[0;34m\u001b[0m\n\u001b[1;32m      3\u001b[0m \u001b[0;32mimport\u001b[0m \u001b[0mnumpy\u001b[0m \u001b[0;32mas\u001b[0m \u001b[0mnp\u001b[0m\u001b[0;34m\u001b[0m\u001b[0;34m\u001b[0m\u001b[0m\n\u001b[1;32m      4\u001b[0m \u001b[0;31m# Dependency to be removed\u001b[0m\u001b[0;34m\u001b[0m\u001b[0;34m\u001b[0m\u001b[0;34m\u001b[0m\u001b[0m\n\u001b[0;32m----> 5\u001b[0;31m \u001b[0;32mfrom\u001b[0m \u001b[0mpoibin\u001b[0m \u001b[0;32mimport\u001b[0m \u001b[0mPoiBin\u001b[0m\u001b[0;34m\u001b[0m\u001b[0;34m\u001b[0m\u001b[0m\n\u001b[0m",
      "\u001b[0;31mModuleNotFoundError\u001b[0m: No module named 'poibin'"
     ]
    }
   ],
   "source": [
    "import pymc3 as pm\n",
    "import pandas as pd\n",
    "import numpy as np\n",
    "# Dependency to be removed\n",
    "from poibin import PoiBin"
   ]
  },
  {
   "cell_type": "code",
   "execution_count": null,
   "id": "mental-investing",
   "metadata": {},
   "outputs": [],
   "source": [
    "# This is something I have readily available from my code.\n",
    "# It will be much simpler for actual workshops\n",
    "def get_goal_ps(ps):\n",
    "    pb = PoiBin(ps)\n",
    "    goals = []\n",
    "    probs = []\n",
    "    g = 0\n",
    "    p = 1\n",
    "    while ((p > 0.01) or (g <= 3)) and (g <= ps.shape[0]):\n",
    "        p = pb.pmf(g)\n",
    "        goals.append(g)\n",
    "        probs.append(p)\n",
    "        g += 1\n",
    "    probs = probs[:-1]\n",
    "    goals = goals[:-1]\n",
    "    return probs, goals\n",
    "\n",
    "dt = pd.read_csv(\"https://git.io/fNmRy\")\n",
    "dt = dt.loc[dt.season == 2017]\n",
    "# For each match, collect the expected goals for each team\n",
    "match_id, time, home_team, i_home, away_team, i_away, goal_home, goal_away, weight = [], [], [], [], [], [], [], [], []\n",
    "# Create a parallel data with only results\n",
    "match_id_only, time_only, home_team_only, i_home_only, away_team_only, i_away_only, goal_home_only, goal_away_only = [], [], [], [], [], [], [], []\n",
    "# Create a dictionary of teams for the i_home/i_away column\n",
    "teams = dt.home.unique()\n",
    "team_dic = {team:i for i, team in enumerate(teams)}\n",
    "\n",
    "\n",
    "matches = dt.groupby('match_id')\n",
    "# Construct the weighted and non-weighted data\n",
    "for i, match in enumerate(matches):\n",
    "    m_id = match[0]\n",
    "    # print(m_id)\n",
    "    match = match[1]\n",
    "    # Get the time in unix timestamp\n",
    "    time_ = pend.parse(match.date.iloc[0])\n",
    "    time_ = time_.int_timestamp\n",
    "    ps = match.loc[match.side=='h', 'xg'].to_numpy()\n",
    "    p_home, g_home = get_goal_ps(ps)\n",
    "    ps = match.loc[match.side=='a', 'xg'].to_numpy()\n",
    "    p_away, g_away = get_goal_ps(ps)\n",
    "    for (g_h, p_h), (g_a, p_a) in product(zip(g_home, p_home), zip(g_away, p_away)):\n",
    "        match_id.append(m_id)\n",
    "        goal_home.append(g_h)\n",
    "        goal_away.append(g_a)\n",
    "        # We should have probabilities high enough for this not to be a problem\n",
    "        weight.append(p_a * p_h)\n",
    "        home_team.append(match.iloc[0, 2])\n",
    "        i_home.append(team_dic[match.iloc[0, 2]])\n",
    "        away_team.append(match.iloc[0, 3])\n",
    "        i_away.append(team_dic[match.iloc[0, 3]])\n",
    "        time.append(time_)\n",
    "    match_id_only.append(m_id)\n",
    "    time_only.append(time_)\n",
    "    home_team_only.append(match.iloc[0, 2])\n",
    "    away_team_only.append(match.iloc[0, 3])\n",
    "    i_home_only.append(team_dic[match.iloc[0, 2]])\n",
    "    i_away_only.append(team_dic[match.iloc[0, 3]])\n",
    "    goal_home_only.append(match.iloc[0,4])\n",
    "    goal_away_only.append(match.iloc[0,5])\n",
    "\n",
    "dt_simple = pd.DataFrame.from_dict({'match_id':match_id_only, 'time':time_only, 'home_team':home_team_only,\n",
    "                                    'away_team':away_team_only, 'goal_home': goal_home_only, 'goal_away':goal_away_only,\n",
    "                                    'i_home':i_home_only, 'i_away': i_away_only})\n",
    "\n"
   ]
  }
 ],
 "metadata": {
  "kernelspec": {
   "display_name": "Python 3",
   "language": "python",
   "name": "python3"
  },
  "language_info": {
   "codemirror_mode": {
    "name": "ipython",
    "version": 3
   },
   "file_extension": ".py",
   "mimetype": "text/x-python",
   "name": "python",
   "nbconvert_exporter": "python",
   "pygments_lexer": "ipython3",
   "version": "3.8.6"
  }
 },
 "nbformat": 4,
 "nbformat_minor": 5
}
